{
 "cells": [
  {
   "cell_type": "code",
   "execution_count": 1,
   "metadata": {},
   "outputs": [],
   "source": [
    "import os\n",
    "import pandas as pd\n",
    "import psycopg2\n",
    "import sqlalchemy\n",
    "import numpy as np\n",
    "import matplotlib.pyplot as plt\n",
    "import getpass"
   ]
  },
  {
   "cell_type": "code",
   "execution_count": 2,
   "metadata": {},
   "outputs": [
    {
     "name": "stdout",
     "output_type": "stream",
     "text": [
      "········\n"
     ]
    }
   ],
   "source": [
    "pw=getpass.getpass() \n",
    "conn = psycopg2.connect(\"dbname='EmployeeSQL' user='postgres' host='localhost' port='5432' password='{}'\".format(pw))\n"
   ]
  },
  {
   "cell_type": "code",
   "execution_count": 3,
   "metadata": {},
   "outputs": [
    {
     "data": {
      "text/html": [
       "<div>\n",
       "<style scoped>\n",
       "    .dataframe tbody tr th:only-of-type {\n",
       "        vertical-align: middle;\n",
       "    }\n",
       "\n",
       "    .dataframe tbody tr th {\n",
       "        vertical-align: top;\n",
       "    }\n",
       "\n",
       "    .dataframe thead th {\n",
       "        text-align: right;\n",
       "    }\n",
       "</style>\n",
       "<table border=\"1\" class=\"dataframe\">\n",
       "  <thead>\n",
       "    <tr style=\"text-align: right;\">\n",
       "      <th></th>\n",
       "      <th>emp_no</th>\n",
       "      <th>last_name</th>\n",
       "      <th>first_name</th>\n",
       "      <th>sex</th>\n",
       "      <th>salary</th>\n",
       "    </tr>\n",
       "  </thead>\n",
       "  <tbody>\n",
       "    <tr>\n",
       "      <th>0</th>\n",
       "      <td>57444</td>\n",
       "      <td>Babb</td>\n",
       "      <td>Berry</td>\n",
       "      <td>F</td>\n",
       "      <td>48973</td>\n",
       "    </tr>\n",
       "    <tr>\n",
       "      <th>1</th>\n",
       "      <td>13616</td>\n",
       "      <td>Lorho</td>\n",
       "      <td>Perry</td>\n",
       "      <td>F</td>\n",
       "      <td>40000</td>\n",
       "    </tr>\n",
       "    <tr>\n",
       "      <th>2</th>\n",
       "      <td>240129</td>\n",
       "      <td>Karnin</td>\n",
       "      <td>Roddy</td>\n",
       "      <td>M</td>\n",
       "      <td>43548</td>\n",
       "    </tr>\n",
       "    <tr>\n",
       "      <th>3</th>\n",
       "      <td>427958</td>\n",
       "      <td>Poujol</td>\n",
       "      <td>Feixiong</td>\n",
       "      <td>F</td>\n",
       "      <td>63377</td>\n",
       "    </tr>\n",
       "    <tr>\n",
       "      <th>4</th>\n",
       "      <td>35916</td>\n",
       "      <td>Talmon</td>\n",
       "      <td>Wonhee</td>\n",
       "      <td>F</td>\n",
       "      <td>40000</td>\n",
       "    </tr>\n",
       "  </tbody>\n",
       "</table>\n",
       "</div>"
      ],
      "text/plain": [
       "   emp_no last_name first_name sex  salary\n",
       "0   57444      Babb      Berry   F   48973\n",
       "1   13616     Lorho      Perry   F   40000\n",
       "2  240129    Karnin      Roddy   M   43548\n",
       "3  427958    Poujol   Feixiong   F   63377\n",
       "4   35916    Talmon     Wonhee   F   40000"
      ]
     },
     "execution_count": 3,
     "metadata": {},
     "output_type": "execute_result"
    }
   ],
   "source": [
    "#Create a histogram to visualize the most common salary ranges for employees.\n",
    "\n",
    "cur = conn.cursor()\n",
    "cur.execute('''select * from vw_emp_salary''')\n",
    "tupples = cur.fetchall()\n",
    "col_names = [i[0] for i in cur.description]\n",
    "cur.close()\n",
    "\n",
    "# Extract the column names from cursor description\n",
    "col_names = []\n",
    "for name in cur.description:\n",
    "    col_names.append(name[0])\n",
    "\n",
    "# Create the dataframe, passing in the above values\n",
    "salaries_df = pd.DataFrame(tupples, columns=col_names)\n",
    "\n",
    "\n",
    "salaries_df.head()\n",
    "# salaries_df.count()"
   ]
  },
  {
   "cell_type": "code",
   "execution_count": 4,
   "metadata": {},
   "outputs": [],
   "source": [
    "#check for null values \n",
    "# salaries_df.count() \n",
    "# salaries_df.isnull().sum()"
   ]
  },
  {
   "cell_type": "code",
   "execution_count": 5,
   "metadata": {},
   "outputs": [
    {
     "data": {
      "image/png": "[encoded data removed]",
      "text/plain": [
       "<Figure size 576x432 with 1 Axes>"
      ]
     },
     "metadata": {
      "needs_background": "light"
     },
     "output_type": "display_data"
    }
   ],
   "source": [
    "# Plot data\n",
    "salaries_df.index.names = ['']\n",
    "fig, ax1 = plt.subplots(figsize=(8, 6))\n",
    "fig.suptitle(\"Frequency of Salaries\", fontsize=14)\n",
    "salaries_df['salary'].plot(kind='hist', color='steelblue',legend= False)\n",
    "plt.grid(color='steelblue', linestyle='-', linewidth=0.2)\n",
    "plt.ylabel('Frequency')\n",
    "plt.xlabel('Salary ($)')\n",
    "\n",
    "plt.tight_layout()"
   ]
  },
  {
   "cell_type": "code",
   "execution_count": 6,
   "metadata": {},
   "outputs": [],
   "source": [
    "#Create a bar chart of average salary by title.\n",
    "conn = psycopg2.connect(\"dbname=EmployeeSQL user=postgres host=localhost password=9102 port=5432\")\n",
    "\n",
    "cur = conn.cursor()\n",
    "cur.execute('''select * from titles''')\n",
    "tupples = cur.fetchall()\n",
    "col_names = [i[0] for i in cur.description]\n",
    "cur.close()\n",
    "\n",
    "# Extract the column names from cursor description\n",
    "col_names = []\n",
    "for elt in cur.description:\n",
    "    col_names.append(elt[0])\n",
    "\n",
    "# Create the dataframe, passing above values\n",
    "titles_df = pd.DataFrame(tupples, columns=col_names)\n",
    "\n",
    "\n",
    "# titles_df.head()"
   ]
  },
  {
   "cell_type": "code",
   "execution_count": 7,
   "metadata": {},
   "outputs": [],
   "source": [
    "#merge tables employee and title \n",
    "\n",
    "conn = psycopg2.connect(\"dbname=EmployeeSQL user=postgres host=localhost password=9102 port=5432\")\n",
    "\n",
    "cur = conn.cursor()\n",
    "cur.execute('''select * from employees''')\n",
    "tupples = cur.fetchall()\n",
    "col_names = [i[0] for i in cur.description]\n",
    "cur.close()\n",
    "\n",
    "# Extract the column column names from cursor description\n",
    "col_names = []\n",
    "for elt in cur.description:\n",
    "    col_names.append(elt[0])\n",
    "\n",
    "# Create the dataframe, passing in the above values\n",
    "employees_df = pd.DataFrame(tupples, columns=col_names)\n",
    "\n",
    "\n",
    "employees_df = employees_df.rename(columns={\"emp_title_id\": \"title_id\"})\n",
    "# employees_df.head()"
   ]
  },
  {
   "cell_type": "code",
   "execution_count": 8,
   "metadata": {},
   "outputs": [],
   "source": [
    "title_employee = pd.merge(titles_df, employees_df, on=\"title_id\")\n",
    "# title_employee.head()"
   ]
  },
  {
   "cell_type": "code",
   "execution_count": 9,
   "metadata": {},
   "outputs": [],
   "source": [
    "#check for null values \n",
    "# title_employee.isnull().sum()"
   ]
  },
  {
   "cell_type": "code",
   "execution_count": 10,
   "metadata": {},
   "outputs": [
    {
     "data": {
      "text/html": [
       "<div>\n",
       "<style scoped>\n",
       "    .dataframe tbody tr th:only-of-type {\n",
       "        vertical-align: middle;\n",
       "    }\n",
       "\n",
       "    .dataframe tbody tr th {\n",
       "        vertical-align: top;\n",
       "    }\n",
       "\n",
       "    .dataframe thead th {\n",
       "        text-align: right;\n",
       "    }\n",
       "</style>\n",
       "<table border=\"1\" class=\"dataframe\">\n",
       "  <thead>\n",
       "    <tr style=\"text-align: right;\">\n",
       "      <th></th>\n",
       "      <th>title_id</th>\n",
       "      <th>title</th>\n",
       "      <th>emp_no</th>\n",
       "      <th>birth_date</th>\n",
       "      <th>first_name_x</th>\n",
       "      <th>last_name_x</th>\n",
       "      <th>sex_x</th>\n",
       "      <th>hire_date</th>\n",
       "      <th>last_name_y</th>\n",
       "      <th>first_name_y</th>\n",
       "      <th>sex_y</th>\n",
       "      <th>salary</th>\n",
       "    </tr>\n",
       "  </thead>\n",
       "  <tbody>\n",
       "    <tr>\n",
       "      <th>0</th>\n",
       "      <td>s0001</td>\n",
       "      <td>Staff</td>\n",
       "      <td>473302</td>\n",
       "      <td>1953-07-25</td>\n",
       "      <td>Hideyuki</td>\n",
       "      <td>Zallocco</td>\n",
       "      <td>M</td>\n",
       "      <td>1990-04-28</td>\n",
       "      <td>Zallocco</td>\n",
       "      <td>Hideyuki</td>\n",
       "      <td>M</td>\n",
       "      <td>40000</td>\n",
       "    </tr>\n",
       "    <tr>\n",
       "      <th>1</th>\n",
       "      <td>s0001</td>\n",
       "      <td>Staff</td>\n",
       "      <td>421786</td>\n",
       "      <td>1957-09-28</td>\n",
       "      <td>Xiong</td>\n",
       "      <td>Verhoeff</td>\n",
       "      <td>M</td>\n",
       "      <td>1987-11-26</td>\n",
       "      <td>Verhoeff</td>\n",
       "      <td>Xiong</td>\n",
       "      <td>M</td>\n",
       "      <td>40000</td>\n",
       "    </tr>\n",
       "    <tr>\n",
       "      <th>2</th>\n",
       "      <td>s0001</td>\n",
       "      <td>Staff</td>\n",
       "      <td>273487</td>\n",
       "      <td>1957-04-14</td>\n",
       "      <td>Christoph</td>\n",
       "      <td>Parfitt</td>\n",
       "      <td>M</td>\n",
       "      <td>1991-06-28</td>\n",
       "      <td>Parfitt</td>\n",
       "      <td>Christoph</td>\n",
       "      <td>M</td>\n",
       "      <td>56087</td>\n",
       "    </tr>\n",
       "    <tr>\n",
       "      <th>3</th>\n",
       "      <td>s0001</td>\n",
       "      <td>Staff</td>\n",
       "      <td>246449</td>\n",
       "      <td>1958-03-23</td>\n",
       "      <td>Subbu</td>\n",
       "      <td>Bultermann</td>\n",
       "      <td>F</td>\n",
       "      <td>1988-03-25</td>\n",
       "      <td>Bultermann</td>\n",
       "      <td>Subbu</td>\n",
       "      <td>F</td>\n",
       "      <td>87084</td>\n",
       "    </tr>\n",
       "    <tr>\n",
       "      <th>4</th>\n",
       "      <td>s0001</td>\n",
       "      <td>Staff</td>\n",
       "      <td>48085</td>\n",
       "      <td>1964-01-19</td>\n",
       "      <td>Venkatesan</td>\n",
       "      <td>Gilg</td>\n",
       "      <td>M</td>\n",
       "      <td>1993-06-28</td>\n",
       "      <td>Gilg</td>\n",
       "      <td>Venkatesan</td>\n",
       "      <td>M</td>\n",
       "      <td>63016</td>\n",
       "    </tr>\n",
       "  </tbody>\n",
       "</table>\n",
       "</div>"
      ],
      "text/plain": [
       "  title_id  title  emp_no  birth_date first_name_x last_name_x sex_x  \\\n",
       "0    s0001  Staff  473302  1953-07-25     Hideyuki    Zallocco     M   \n",
       "1    s0001  Staff  421786  1957-09-28        Xiong    Verhoeff     M   \n",
       "2    s0001  Staff  273487  1957-04-14    Christoph     Parfitt     M   \n",
       "3    s0001  Staff  246449  1958-03-23        Subbu  Bultermann     F   \n",
       "4    s0001  Staff   48085  1964-01-19   Venkatesan        Gilg     M   \n",
       "\n",
       "    hire_date last_name_y first_name_y sex_y  salary  \n",
       "0  1990-04-28    Zallocco     Hideyuki     M   40000  \n",
       "1  1987-11-26    Verhoeff        Xiong     M   40000  \n",
       "2  1991-06-28     Parfitt    Christoph     M   56087  \n",
       "3  1988-03-25  Bultermann        Subbu     F   87084  \n",
       "4  1993-06-28        Gilg   Venkatesan     M   63016  "
      ]
     },
     "execution_count": 10,
     "metadata": {},
     "output_type": "execute_result"
    }
   ],
   "source": [
    "#new employee_title  with  with salary\n",
    "salary_employee = pd.merge(title_employee, salaries_df, on=\"emp_no\")\n",
    "salary_employee.head()"
   ]
  },
  {
   "cell_type": "code",
   "execution_count": 11,
   "metadata": {},
   "outputs": [],
   "source": [
    "#check for null values \n",
    "# salary_employee.isnull().sum()"
   ]
  },
  {
   "cell_type": "code",
   "execution_count": 12,
   "metadata": {},
   "outputs": [
    {
     "data": {
      "text/html": [
       "<div>\n",
       "<style scoped>\n",
       "    .dataframe tbody tr th:only-of-type {\n",
       "        vertical-align: middle;\n",
       "    }\n",
       "\n",
       "    .dataframe tbody tr th {\n",
       "        vertical-align: top;\n",
       "    }\n",
       "\n",
       "    .dataframe thead th {\n",
       "        text-align: right;\n",
       "    }\n",
       "</style>\n",
       "<table border=\"1\" class=\"dataframe\">\n",
       "  <thead>\n",
       "    <tr style=\"text-align: right;\">\n",
       "      <th></th>\n",
       "      <th>salary</th>\n",
       "    </tr>\n",
       "    <tr>\n",
       "      <th>title</th>\n",
       "      <th></th>\n",
       "    </tr>\n",
       "  </thead>\n",
       "  <tbody>\n",
       "    <tr>\n",
       "      <th>Assistant Engineer</th>\n",
       "      <td>48564.434447</td>\n",
       "    </tr>\n",
       "    <tr>\n",
       "      <th>Engineer</th>\n",
       "      <td>48535.336511</td>\n",
       "    </tr>\n",
       "    <tr>\n",
       "      <th>Manager</th>\n",
       "      <td>51531.041667</td>\n",
       "    </tr>\n",
       "    <tr>\n",
       "      <th>Senior Engineer</th>\n",
       "      <td>48506.799871</td>\n",
       "    </tr>\n",
       "    <tr>\n",
       "      <th>Senior Staff</th>\n",
       "      <td>58550.172704</td>\n",
       "    </tr>\n",
       "    <tr>\n",
       "      <th>Staff</th>\n",
       "      <td>58465.382850</td>\n",
       "    </tr>\n",
       "    <tr>\n",
       "      <th>Technique Leader</th>\n",
       "      <td>48582.896092</td>\n",
       "    </tr>\n",
       "  </tbody>\n",
       "</table>\n",
       "</div>"
      ],
      "text/plain": [
       "                          salary\n",
       "title                           \n",
       "Assistant Engineer  48564.434447\n",
       "Engineer            48535.336511\n",
       "Manager             51531.041667\n",
       "Senior Engineer     48506.799871\n",
       "Senior Staff        58550.172704\n",
       "Staff               58465.382850\n",
       "Technique Leader    48582.896092"
      ]
     },
     "execution_count": 12,
     "metadata": {},
     "output_type": "execute_result"
    }
   ],
   "source": [
    "salary_employee = salary_employee.loc[:, ['title','salary']]\n",
    "mean_salaries = salary_employee.groupby(['title']).mean()\n",
    "mean_salaries"
   ]
  },
  {
   "cell_type": "code",
   "execution_count": 14,
   "metadata": {},
   "outputs": [
    {
     "data": {
      "image/png": "[encoded data removed]",
      "text/plain": [
       "<Figure size 576x432 with 1 Axes>"
      ]
     },
     "metadata": {
      "needs_background": "light"
     },
     "output_type": "display_data"
    }
   ],
   "source": [
    "# Plot data\n",
    "mean_salaries.index.names = ['']\n",
    "fig, ax1 = plt.subplots(figsize=(8, 6))\n",
    "fig.suptitle(\"Average Salaries vs Employee Positions\", fontsize=15,fontweight=\"bold\")\n",
    "mean_salaries['salary'].plot(kind='bar',width=0.7, color='cadetblue',legend= False,)\n",
    "# plt.grid(color='steelblue', linestyle='-', linewidth=0.2)\n",
    "ax1.yaxis.grid(color='cadetblue', linestyle='-', linewidth=0.3)\n",
    "plt.ylabel('Salary($)')\n",
    "plt.xticks(rotation=45);"
   ]
  }
 ],
 "metadata": {
  "kernelspec": {
   "display_name": "Python [conda env:PythonData] *",
   "language": "python",
   "name": "conda-env-PythonData-py"
  },
  "language_info": {
   "codemirror_mode": {
    "name": "ipython",
    "version": 3
   },
   "file_extension": ".py",
   "mimetype": "text/x-python",
   "name": "python",
   "nbconvert_exporter": "python",
   "pygments_lexer": "ipython3",
   "version": "3.8.5"
  }
 },
 "nbformat": 4,
 "nbformat_minor": 4
}
